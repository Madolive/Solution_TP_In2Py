{
 "cells": [
  {
   "cell_type": "markdown",
   "id": "ddc667e7",
   "metadata": {
    "id": "ddc667e7"
   },
   "source": [
    "**Exercise 00:**  \n",
    ">\n",
    "\n",
    "  \n",
    "> 1. Déclarez une variable `prenom` et attribuez-lui une valeur.\n",
    "  > 2. Déclarez une variable `nom` et attribuez-lui une valeur.\n",
    "  > 3. Déclarez une variable `prenom_nom` et attribuez-lui une valeur.\n",
    "  > 4. Déclarez une variable `pays` et attribuez-lui une valeur.\n",
    "  > 5. Déclarez une variable `ville` et attribuez-lui une valeur.\n",
    "  > 6. Déclarez une variable `age` et attribuez-lui une valeur.\n",
    "  > 7. Déclarez une variable `annee` et attribuez-lui une valeur.\n",
    "  > 8. Déclarez une variable `est_marie` et attribuez-lui une valeur.\n",
    "  > 9. Déclarez une variable `est_vrai` et attribuez-lui une valeur.\n",
    "\n",
    "> Pour chacune des variables ci-dessus, affichez la valeur qu'elle contient à l'aide de la fonction `print()`.\n",
    "\n"
   ]
  },
  {
   "cell_type": "code",
   "execution_count": 2,
   "id": "ebd3951d",
   "metadata": {
    "id": "ebd3951d"
   },
   "outputs": [
    {
     "name": "stdout",
     "output_type": "stream",
     "text": [
      "Michael\n",
      "================================\n",
      "ALLESSI\n",
      "================================\n",
      "MichaelALLESSI\n",
      "================================\n",
      "Benin\n",
      "================================\n",
      "Dangbo\n",
      "================================\n",
      "19\n",
      "================================\n",
      "2022\n",
      "================================\n",
      "non\n",
      "================================\n",
      "1\n",
      "================================\n"
     ]
    }
   ],
   "source": [
    "prenom= \"Michael\"\n",
    "print(prenom)\n",
    "print(\"================================\")\n",
    "nom= \"ALLESSI\"\n",
    "print(nom)\n",
    "print(\"================================\")\n",
    "prenom_nom= \"MichaelALLESSI\"\n",
    "print(prenom_nom)\n",
    "print(\"================================\")\n",
    "pays= \"Benin\"\n",
    "print(pays)\n",
    "print(\"================================\")\n",
    "ville= \"Dangbo\"\n",
    "print(ville)\n",
    "print(\"================================\")\n",
    "age= 19\n",
    "print(age)\n",
    "print(\"================================\")\n",
    "annee= 2022\n",
    "print(annee)\n",
    "print(\"================================\")\n",
    "est_marie=\"non\"\n",
    "print(est_marie)\n",
    "print(\"================================\")\n",
    "est_vrai= 1\n",
    "print(est_vrai)\n",
    "print(\"================================\")"
   ]
  },
  {
   "cell_type": "markdown",
   "id": "85eb4f96",
   "metadata": {
    "id": "85eb4f96"
   },
   "source": [
    "**Exercise 01:** \n",
    "> Vérifiez le type de données de toutes vos variables à l'aide de la fonction intégrée `type()`.**\n"
   ]
  },
  {
   "cell_type": "code",
   "execution_count": 6,
   "id": "c5c47124",
   "metadata": {
    "id": "c5c47124"
   },
   "outputs": [
    {
     "name": "stdout",
     "output_type": "stream",
     "text": [
      "<class 'str'>\n",
      "<class 'str'>\n",
      "<class 'str'>\n",
      "<class 'str'>\n",
      "<class 'int'>\n",
      "<class 'int'>\n",
      "<class 'str'>\n",
      "<class 'int'>\n"
     ]
    }
   ],
   "source": [
    "print(type(prenom))\n",
    "print(type(nom))\n",
    "print(type(prenom_nom))\n",
    "print(type(ville))\n",
    "print(type(age))\n",
    "print(type (annee))\n",
    "print(type(est_marie))\n",
    "print(type(est_vrai))\n",
    "#Décommenter pour avoir le type "
   ]
  },
  {
   "cell_type": "markdown",
   "id": "76cdc19b",
   "metadata": {
    "id": "76cdc19b"
   },
   "source": [
    "**Exercise 02:** \n",
    "> Calculez la valeur de $y$ ($y = x^2 + 6x + 9$). Essayez d'utiliser différentes valeurs de $x$ et déterminez à quelle valeur de $x$ $y$ sera égal à 0.**"
   ]
  },
  {
   "cell_type": "code",
   "execution_count": 10,
   "id": "fb4df11a",
   "metadata": {
    "id": "fb4df11a"
   },
   "outputs": [
    {
     "name": "stdout",
     "output_type": "stream",
     "text": [
      "9\n",
      "================================\n",
      "16\n",
      "================================\n",
      "25\n",
      "================================\n",
      "4\n",
      "================================\n",
      "1\n",
      "================================\n",
      "0\n",
      "================================\n",
      "y donne 0 pour x égal -3\n"
     ]
    }
   ],
   "source": [
    "x=0\n",
    "y=(x*x)+(6*x)+9\n",
    "print(y)\n",
    "print(\"================================\")\n",
    "x=1\n",
    "y=(x*x)+(6*x)+9\n",
    "print(y)\n",
    "print(\"================================\")\n",
    "x=2\n",
    "y=(x*x)+(6*x)+9\n",
    "print(y)\n",
    "print(\"================================\")\n",
    "x=-1\n",
    "y=(x*x)+(6*x)+9\n",
    "print(y)\n",
    "print(\"================================\")\n",
    "x=-2\n",
    "y=(x*x)+(6*x)+9\n",
    "print(y)\n",
    "print(\"================================\")\n",
    "x=-3\n",
    "y=(x*x)+(6*x)+9\n",
    "print(y)\n",
    "print(\"================================\")\n",
    "print(\"y donne 0 pour x égal -3\")"
   ]
  },
  {
   "cell_type": "markdown",
   "id": "8f40e3ab",
   "metadata": {
    "id": "8f40e3ab"
   },
   "source": [
    "**Exercise 03:** \n",
    ">    \n",
    "\n",
    "     1. Déclarez votre âge sous forme de variable entière\n",
    "     2. Déclarez votre taille en tant que variable flottante\n",
    "     3. Déclarez une variable qui stocke la base et la hauteur d'un triangle. Calculez l'aire de ce triangle (aire = 0,5 x b x h)."
   ]
  },
  {
   "cell_type": "code",
   "execution_count": 3,
   "id": "rpAlhgG_9A5z",
   "metadata": {
    "id": "rpAlhgG_9A5z"
   },
   "outputs": [
    {
     "name": "stdout",
     "output_type": "stream",
     "text": [
      "Entrez la base : 3\n",
      "Entrez la hauteur : 4\n",
      "6.0\n"
     ]
    }
   ],
   "source": [
    "mon_age=19\n",
    "ma_taille=1.58\n",
    "base =float(input(\"Entrez la base : \"))\n",
    "hauteur = float(input(\"Entrez la hauteur : \"))\n",
    "resultat = 0.5*base*hauteur\n",
    "print(resultat)\n"
   ]
  },
  {
   "cell_type": "markdown",
   "id": "9957391d",
   "metadata": {
    "id": "9957391d"
   },
   "source": [
    "## *Astuce : recevoir les entrées de l'utilisateur *\n",
    "**Pour recevoir une entrée de l'utilisateur, nous utilisons `input()`.**.\n",
    "\n",
    "**Exemple**\n",
    "Recevez deux nombres en entrée de l'utilisateur et calculez leur puissance :\n",
    "```python\n",
    "base = input(\"Entrez une base : \")\n",
    "exposant = input(\"Entrez un exposant : \")\n",
    "resultat = float(base) ** float(exposant)\n",
    "print(f \"{base} à la puissance {exposant} = {résultat}\")\n",
    "```"
   ]
  },
  {
   "cell_type": "markdown",
   "id": "0fb34716",
   "metadata": {
    "id": "0fb34716"
   },
   "source": [
    "**Exercise 04:** \n",
    "> **Write a small code that asks the user to enter the side $a$, the side $b$ and the side $c$ of a triangle. Calculate the perimeter of the triangle (perimeter = a + b + c).**"
   ]
  },
  {
   "cell_type": "code",
   "execution_count": 5,
   "id": "6618f067",
   "metadata": {
    "id": "6618f067"
   },
   "outputs": [
    {
     "name": "stdout",
     "output_type": "stream",
     "text": [
      "Enter side a : 3\n",
      "Enter side b : 4\n",
      "Enter side c : 5\n",
      "The triangle perimeter is 12.0\n"
     ]
    }
   ],
   "source": [
    "a = float(input(\"Enter side a : \"))\n",
    "b= float(input(\"Enter side b : \"))\n",
    "c= float(input(\"Enter side c : \"))\n",
    "perimeter=a+b+c\n",
    "print(\"The triangle perimeter is\",perimeter)\n",
    "\n"
   ]
  },
  {
   "cell_type": "markdown",
   "id": "e482c15c",
   "metadata": {
    "id": "e482c15c"
   },
   "source": [
    "#### **Exercise 05:** \n",
    "> **Obtenez la longueur et la largeur d'un rectangle à l'aide de l'invite. Calculer sa `superficie` et son `perimetre`.**"
   ]
  },
  {
   "cell_type": "code",
   "execution_count": 28,
   "id": "286cec4c",
   "metadata": {
    "id": "286cec4c"
   },
   "outputs": [
    {
     "name": "stdout",
     "output_type": "stream",
     "text": [
      "Entrez la longueur : 10\n",
      "Entrez la largeur : 5\n",
      "La superficie du rectangle est  50.0\n",
      "Le perimetre du rectangle est  30.0\n"
     ]
    }
   ],
   "source": [
    "longueur = input(\"Entrez la longueur : \")\n",
    "largeur = input(\"Entrez la largeur : \")\n",
    "superficie=float(longueur)*float(largeur)\n",
    "print(\"La superficie du rectangle est \",superficie)\n",
    "perimetre=(float(longueur)+float(largeur))*2\n",
    "print(\"Le perimetre du rectangle est \",perimetre)\n",
    "\n"
   ]
  },
  {
   "cell_type": "markdown",
   "id": "cf15844c",
   "metadata": {
    "id": "cf15844c"
   },
   "source": [
    "**Exercice 06:** \n",
    "> **Obtenez le rayon d'un cercle en utilisant l'invite. Calculez l'aire (aire = pi x r x r) et la circonférence (c = 2 x pi x r) où pi = 3,14.**"
   ]
  },
  {
   "cell_type": "code",
   "execution_count": 2,
   "id": "ee0ee85e",
   "metadata": {
    "id": "ee0ee85e"
   },
   "outputs": [
    {
     "name": "stdout",
     "output_type": "stream",
     "text": [
      "Entrez le rayon : 4\n",
      "L'aire du cercle est 50.24\n",
      "La circonférence du cercle est 25.12\n"
     ]
    }
   ],
   "source": [
    "r= float(input(\"Entrez le rayon : \"))\n",
    "aire= r*r*3.14\n",
    "circum= 2*3.14*r\n",
    "print(\"L'aire du cercle est\", aire)\n",
    "print(\"La circonférence du cercle est\",circum)\n"
   ]
  },
  {
   "cell_type": "markdown",
   "id": "d9dec37a",
   "metadata": {
    "id": "d9dec37a"
   },
   "source": [
    "**Exercice 07:**\n",
    "> **Calculez la pente, l'ordonnée à l'origine en x et l'ordonnée à l'origine en $y$ de $y = 2x -2$.**"
   ]
  },
  {
   "cell_type": "code",
   "execution_count": 33,
   "id": "203e449c",
   "metadata": {
    "id": "203e449c"
   },
   "outputs": [
    {
     "name": "stdout",
     "output_type": "stream",
     "text": [
      "La pente donne 2.0\n",
      "L'ordonnée à l'origine donnne -2\n"
     ]
    }
   ],
   "source": [
    "x1= 0\n",
    "x2=1\n",
    "y1= 2*float(x1)-2\n",
    "y2= 2*float(x2)-2\n",
    "y0= (2*0)-2\n",
    "pente=(float(y1)-float(y2))/(float(x1)-float(x2))\n",
    "print(\"La pente donne\", pente)\n",
    "print(\"L'ordonnée à l'origine donnne\",y0)\n"
   ]
  },
  {
   "cell_type": "markdown",
   "id": "2f74d685",
   "metadata": {
    "id": "2f74d685"
   },
   "source": [
    "**Exercice 08:** \n",
    "> **Rédigez un script qui demande à l'utilisateur d'entrer les heures et le taux horaire. Calculez la rémunération de la personne ?**"
   ]
  },
  {
   "cell_type": "code",
   "execution_count": 34,
   "id": "7cff5a0a",
   "metadata": {
    "id": "7cff5a0a"
   },
   "outputs": [
    {
     "name": "stdout",
     "output_type": "stream",
     "text": [
      "Entrez les heures: 23\n",
      "Entrez le taux horaire: 2\n",
      "La rénumération est 46.0\n"
     ]
    }
   ],
   "source": [
    "heure= input(\"Entrez les heures: \")\n",
    "taux= input(\"Entrez le taux horaire: \")\n",
    "renum= float(heure)*float(taux)\n",
    "print(\"La rénumération est\",renum)\n"
   ]
  },
  {
   "cell_type": "markdown",
   "id": "6ddd662c",
   "metadata": {
    "id": "6ddd662c"
   },
   "source": [
    "**Exercice 09:** \n",
    "> **Écrivez un script qui demande à l'utilisateur d'entrer le nombre d'années. Calculez le nombre de secondes qu'une personne peut vivre. Supposons qu'une personne puisse vivre cent ans.**"
   ]
  },
  {
   "cell_type": "code",
   "execution_count": 12,
   "id": "44c2a63c",
   "metadata": {
    "id": "44c2a63c"
   },
   "outputs": [
    {
     "name": "stdout",
     "output_type": "stream",
     "text": [
      "Entrez le nombre d'années : 34\n",
      "Le nombre de secondes que la personne peut vivre est 1072224000\n"
     ]
    }
   ],
   "source": [
    "a= int(input(\"Entrez le nombre d'années : \"))\n",
    "if a<=100 and a>0 :\n",
    "    s=a*31536000\n",
    "    print(\"Le nombre de secondes que la personne peut vivre est\", s)\n",
    "   \n",
    "else:\n",
    "    print(\"Année invalide\")"
   ]
  },
  {
   "cell_type": "markdown",
   "id": "9b253387",
   "metadata": {
    "id": "9b253387"
   },
   "source": [
    "**Exercice 10:** \n",
    "> **Écrivez un script Python qui affiche le tableau suivant**\n",
    "\n",
    "    1 1 1 1 1\n",
    "    \n",
    "    2 1 2 4 8\n",
    "    \n",
    "    3 1 3 9 27\n",
    "    \n",
    "    4 1 4 16 64\n",
    "    \n",
    "    5 1 5 25 125"
   ]
  },
  {
   "cell_type": "code",
   "execution_count": 64,
   "id": "aa2dae84",
   "metadata": {
    "id": "aa2dae84"
   },
   "outputs": [
    {
     "name": "stdout",
     "output_type": "stream",
     "text": [
      "1 1 1 1 1\n",
      "\n",
      "2 1 2 4 8\n",
      "\n",
      "3 1 3 9 27\n",
      "\n",
      "4 1 4 16 64\n",
      "\n",
      "5 1 5 25 125\n"
     ]
    }
   ],
   "source": [
    "print(\"1 1 1 1 1\")\n",
    "print()\n",
    "print(\"2 1 2 4 8\")\n",
    "print()\n",
    "print(\"3 1 3 9 27\")\n",
    "print()\n",
    "print(\"4 1 4 16 64\")\n",
    "print()\n",
    "print(\"5 1 5 25 125\")"
   ]
  },
  {
   "cell_type": "markdown",
   "id": "953e7d8c",
   "metadata": {
    "id": "953e7d8c"
   },
   "source": [
    "**Exercise 11:** \n",
    ">**Attribuez aux variables `temps` et `distance` les valeurs $6.892$ et $19.7$. Calculer et afficher la valeur de la vitesse. Améliorer l'affichage en imposant un chiffre après la virgule.**"
   ]
  },
  {
   "cell_type": "code",
   "execution_count": 22,
   "id": "6d787289",
   "metadata": {
    "id": "6d787289"
   },
   "outputs": [
    {
     "name": "stdout",
     "output_type": "stream",
     "text": [
      "2.8583865351131745\n",
      "2.8\n"
     ]
    }
   ],
   "source": [
    "temps = 6.892\n",
    "distance= 19.7\n",
    "vitesse= distance/temps\n",
    "print(vitesse)\n",
    "vitesse=str(vitesse)\n",
    "print(vitesse[:3])"
   ]
  },
  {
   "cell_type": "markdown",
   "id": "2d0f1ff9",
   "metadata": {
    "id": "2d0f1ff9"
   },
   "source": [
    "**Exercice 12:** \n",
    "> **Écrire un programme qui, à partir de la saisie d’un rayon et d’une hauteur, calcule levolume d’un cône droit.**"
   ]
  },
  {
   "cell_type": "code",
   "execution_count": 57,
   "id": "969f5f68",
   "metadata": {
    "id": "969f5f68"
   },
   "outputs": [
    {
     "name": "stdout",
     "output_type": "stream",
     "text": [
      "Entrez le rayon: 2\n",
      "Entrez la hauteur: 3\n",
      "Le volume est 12.56\n"
     ]
    }
   ],
   "source": [
    "r= input(\"Entrez le rayon: \")\n",
    "h= input(\"Entrez la hauteur: \")\n",
    "v= (float(r)*float(r)*3.14*float(h))/3\n",
    "print(\"Le volume est\",v)"
   ]
  },
  {
   "cell_type": "markdown",
   "id": "e9b3ce2a",
   "metadata": {
    "id": "e9b3ce2a"
   },
   "source": [
    "**Exercise 13:** \n",
    "> **L'utilisateur donne un entier positif et le programme annonce combien de fois de suite cet entier est divisible par 2.**"
   ]
  },
  {
   "cell_type": "code",
   "execution_count": 18,
   "id": "5c8fea9a",
   "metadata": {
    "id": "5c8fea9a"
   },
   "outputs": [
    {
     "name": "stdout",
     "output_type": "stream",
     "text": [
      "Entrez un entier strictement positif: 8\n",
      "8 est 3 fois divisible par 2\n"
     ]
    }
   ],
   "source": [
    "\n",
    "n= int(input(\"Entrez un entier strictement positif: \"))\n",
    "while n<1:\n",
    "    n= int(input(\"Entrez un entier strictement positif: \"))\n",
    "m=n\n",
    "cpt=0\n",
    "while n%2 ==0:\n",
    "    n/=2\n",
    "    cpt+=1\n",
    "print(str(m)+\" est \"+str(cpt)+\" fois divisible par 2\")\n",
    "    \n",
    "    "
   ]
  },
  {
   "cell_type": "markdown",
   "id": "0485aed6",
   "metadata": {
    "id": "0485aed6"
   },
   "source": [
    "**Exercise 14:** \n",
    ">**L'utilisateur donne un nombre entier entre 2 et 12, le programme donne le nombre de façons de le faire en lançant deux dés.**"
   ]
  },
  {
   "cell_type": "code",
   "execution_count": null,
   "id": "31f48a15",
   "metadata": {
    "id": "31f48a15"
   },
   "outputs": [],
   "source": [
    "j=1\n",
    "cpt=0\n",
    "n=1\n",
    "while n<2 or n>12 :  \n",
    "    n=int(input(\"Entrez un entier entre 2 et 12:\"))\n",
    "for i in range(1,7):\n",
    "    while j<7:\n",
    "        if i+j == n:\n",
    "            cpt+=1\n",
    "    j+=1        \n",
    "print(cpt)           "
   ]
  },
  {
   "cell_type": "markdown",
   "id": "cead0c8f",
   "metadata": {
    "id": "cead0c8f"
   },
   "source": [
    "**Exercice 15:** \n",
    "> **Utilisez la fonction d'entrée intégrée `input()` pour obtenir le `_prénom_`, le `_nom_`, le `_pays_d_origine` et l'`_age_` d'un utilisateur et stockez la valeur dans les noms des variables correspondantes.**"
   ]
  },
  {
   "cell_type": "code",
   "execution_count": null,
   "id": "0a2694a9",
   "metadata": {
    "id": "0a2694a9"
   },
   "outputs": [],
   "source": [
    "p= input(\"Entrez le prenom: \")\n",
    "n= input(\"Entrez le nom: \")\n",
    "pays= input(\"Entrez le pays d'origine: \")\n",
    "age= int(input(\"Entrez l'age: \"))"
   ]
  },
  {
   "cell_type": "markdown",
   "id": "33240a56",
   "metadata": {
    "id": "33240a56"
   },
   "source": [
    "**Exercice 16:** \n",
    "\n",
    "**Déclarer $5$ comme `num_one` et $4$ comme `num_two`**\n",
    "\n",
    "   1. Additionner `num_one` et `num_two` et affecter la valeur à une variable `totale`.\n",
    "   2. Soustraire `num_two` de `num_one` et affecter la valeur à une variable `diff`.\n",
    "   3. Multipliez le `num_one` et le `num_two` et attribuez la valeur à une variable `produit`.\n",
    "   4. Divisez le `num_one` par le `num_two` et attribuez la valeur à une variable `division`.\n",
    "   5. Calculez `num_one` à la puissance de `num_two` et attribuez la valeur à une variable `exp`."
   ]
  },
  {
   "cell_type": "code",
   "execution_count": 69,
   "id": "c2f3e814",
   "metadata": {
    "id": "c2f3e814"
   },
   "outputs": [
    {
     "name": "stdout",
     "output_type": "stream",
     "text": [
      "9\n",
      "==========================\n",
      "1\n",
      "==========================\n",
      "20\n",
      "==========================\n",
      "1.25\n",
      "==========================\n",
      "625\n",
      "==========================\n"
     ]
    }
   ],
   "source": [
    "num_one = 5\n",
    "num_two= 4\n",
    "totale= int(num_one)+int(num_two)\n",
    "diff= int(num_one)-int(num_two)\n",
    "produit= int(num_one)*int(num_two)\n",
    "division= int(num_one)/int(num_two)\n",
    "exp= int(num_one)**int(num_two)\n",
    "print(totale)\n",
    "print(\"==========================\")\n",
    "print(diff)\n",
    "print(\"==========================\")\n",
    "print(produit)\n",
    "print(\"==========================\")\n",
    "print(division)\n",
    "print(\"==========================\")\n",
    "print(exp)\n",
    "print(\"==========================\")"
   ]
  },
  {
   "cell_type": "markdown",
   "id": "80763237",
   "metadata": {
    "id": "80763237"
   },
   "source": [
    "<center> <b> <span style=\"color:orange;\"> 🎉 FÉLICITATIONS! 🎉 </span> </b></center>"
   ]
  }
 ],
 "metadata": {
  "colab": {
   "collapsed_sections": [],
   "name": "In2Py_TP_01.ipynb",
   "provenance": []
  },
  "kernelspec": {
   "display_name": "Python 3 (ipykernel)",
   "language": "python",
   "name": "python3"
  },
  "language_info": {
   "codemirror_mode": {
    "name": "ipython",
    "version": 3
   },
   "file_extension": ".py",
   "mimetype": "text/x-python",
   "name": "python",
   "nbconvert_exporter": "python",
   "pygments_lexer": "ipython3",
   "version": "3.8.10"
  }
 },
 "nbformat": 4,
 "nbformat_minor": 5
}
