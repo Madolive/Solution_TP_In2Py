{
 "cells": [
  {
   "cell_type": "code",
   "execution_count": 42,
   "id": "ca7ef443",
   "metadata": {},
   "outputs": [
    {
     "name": "stdout",
     "output_type": "stream",
     "text": [
      "Enter the number:4\n",
      "10\n"
     ]
    }
   ],
   "source": [
    "#1-i)\n",
    "n=int(input(\"Enter the number:\"))\n",
    "som=0\n",
    "for i in range(0,n):\n",
    "    if(i%2)!=0:\n",
    "        i=i+3\n",
    "        som=som+i\n",
    "print(som)    \n",
    "    \n",
    "    \n"
   ]
  },
  {
   "cell_type": "code",
   "execution_count": 43,
   "id": "12a59929",
   "metadata": {},
   "outputs": [
    {
     "name": "stdout",
     "output_type": "stream",
     "text": [
      "Enter the number:5\n",
      "15\n"
     ]
    }
   ],
   "source": [
    "#1-ii)\n",
    "n=int(input(\"Enter the number:\"))\n",
    "som=0\n",
    "for i in range(0,n):\n",
    "    if(i%2)==0:\n",
    "        i=i+3\n",
    "        som=som+i\n",
    "print(som)    \n",
    "    \n",
    "    "
   ]
  },
  {
   "cell_type": "code",
   "execution_count": 39,
   "id": "52cd57ea",
   "metadata": {},
   "outputs": [
    {
     "name": "stdout",
     "output_type": "stream",
     "text": [
      "Enter the day's number from 0 to 6:3\n",
      "The corresponding day is Thursday\n"
     ]
    }
   ],
   "source": [
    "#2-Programm which reads the day's number \n",
    "n=int(input(\"Enter the day's number from 0 to 6:\"))\n",
    "if n<0 or n>6 :\n",
    "    n=int(input(\"Enter the day's number from 0 to 6,Please:\"))\n",
    "elif n==0:\n",
    "    print(\"The corresponding day is Monday\")\n",
    "elif n==1:\n",
    "    print(\"The corresponding day is Tuesday\")\n",
    "elif n==2:\n",
    "    print(\"The corresponding day is Wednesday\")\n",
    "elif n==3:\n",
    "    print(\"The corresponding day is Thursday\")\n",
    "elif n==4:\n",
    "    print(\"The corresponding day is Friday\")\n",
    "else:\n",
    "    print(\"Weekend\")\n",
    "\n"
   ]
  },
  {
   "cell_type": "code",
   "execution_count": null,
   "id": "c727ffe9",
   "metadata": {},
   "outputs": [],
   "source": []
  },
  {
   "cell_type": "code",
   "execution_count": 6,
   "id": "c5529bcb",
   "metadata": {},
   "outputs": [
    {
     "name": "stdout",
     "output_type": "stream",
     "text": [
      "Enter the month's number from 0 to 11:10\n",
      "This month has 30 days\n"
     ]
    }
   ],
   "source": [
    "#3-Program which reads the month's number\n",
    "n=int(input(\"Enter the month's number from 0 to 11:\"))\n",
    "if n<0 or n>11 :\n",
    "    n=int(input(\"Enter the month's number from 0 to 11,Please:\"))\n",
    "elif n==1:\n",
    "    print(\"This month has 28 days\")\n",
    "elif n==0 or n==2 or n==4 or n==6 or n==7 or n==9 or n==11:\n",
    "    print(\"This month has 31 days\")\n",
    "elif n==3 or n==5 or n==8 or n==10:\n",
    "    print(\"This month has 30 days\")"
   ]
  },
  {
   "cell_type": "code",
   "execution_count": 7,
   "id": "19387b32",
   "metadata": {},
   "outputs": [
    {
     "name": "stdout",
     "output_type": "stream",
     "text": [
      "Michael\n",
      "Michael\n",
      "Michael\n"
     ]
    }
   ],
   "source": [
    "#4-Program which displays my name 3 times\n",
    "#With For loop\n",
    "name=\"Michael\"\n",
    "for i in range(0,3):\n",
    "    print(name)"
   ]
  },
  {
   "cell_type": "code",
   "execution_count": 8,
   "id": "892a2e43",
   "metadata": {},
   "outputs": [
    {
     "name": "stdout",
     "output_type": "stream",
     "text": [
      "Michael\n",
      "Michael\n",
      "Michael\n"
     ]
    }
   ],
   "source": [
    "#With While loop\n",
    "name=\"Michael\"\n",
    "i=1\n",
    "while (i<=3): \n",
    "    print(name)\n",
    "    i=i+1"
   ]
  },
  {
   "cell_type": "code",
   "execution_count": 12,
   "id": "7dbbe890",
   "metadata": {},
   "outputs": [
    {
     "name": "stdout",
     "output_type": "stream",
     "text": [
      "Enter positif number:3\n",
      "Enter positif number:5\n",
      "0\t1\t1\t\n",
      "2\t\n",
      "3\t\n",
      "5\t\n",
      "8\t\n",
      "13\t\n",
      "21\t\n",
      "34\t\n",
      "55\t\n",
      "89\t\n",
      "144\t\n",
      "233\t\n",
      "377\t\n"
     ]
    }
   ],
   "source": [
    "#5-Fibonacci\n",
    "m=int(input(\"Enter positif number:\"))\n",
    "n=int(input(\"Enter positif number:\"))\n",
    "\n",
    "n1,n2=0,1\n",
    "\n",
    "if(n<0):\n",
    "    print(\"Not define\")\n",
    "elif(n==0):\n",
    "    print(n1)\n",
    "elif(n==1):\n",
    "    print(n2) \n",
    "else:\n",
    "    print(n1,end='\\t')\n",
    "    print(n2,end='\\t')\n",
    "    \n",
    "    for i in range(2,15):\n",
    "        suivant= n1+n2\n",
    "        print(suivant,end='\\t')\n",
    "        n1=n2\n",
    "        n2=suivant\n",
    "        print()\n",
    "        \n",
    "   "
   ]
  },
  {
   "cell_type": "code",
   "execution_count": 15,
   "id": "bbc90804",
   "metadata": {},
   "outputs": [
    {
     "name": "stdout",
     "output_type": "stream",
     "text": [
      "Enter the number of the day of the second month of the year: 29\n",
      "It's a leap year\n"
     ]
    }
   ],
   "source": [
    "#7-a.) \n",
    "n=int(input(\"Enter the number of the day of the second month of the year: \"))\n",
    "if n!=28 and n!=29:\n",
    "    print(\"The second month must contain 28 or 29 days\")\n",
    "elif n==28:\n",
    "    print(\"It's not a leap year\")\n",
    "elif n==29:\n",
    "    print(\"It's a leap year\")"
   ]
  },
  {
   "cell_type": "code",
   "execution_count": null,
   "id": "0c0b76c4",
   "metadata": {},
   "outputs": [],
   "source": [
    "#7-b.) \n",
    "n=int(input(\"Enter the number of the day of the second month of the year: \"))\n",
    "if n!=28 and n!=29:\n",
    "    print(\"The second month must contain 28 or 29 days\")\n",
    "elif n==28:\n",
    "    print(\"It's not a leap year\")\n",
    "elif n==29:\n",
    "    print(\"It's a leap year\")"
   ]
  },
  {
   "cell_type": "code",
   "execution_count": 23,
   "id": "56b83e3e",
   "metadata": {},
   "outputs": [
    {
     "name": "stdout",
     "output_type": "stream",
     "text": [
      "Enter a number3\n",
      "The sum of the square of the first 3 natural number is 5\n"
     ]
    }
   ],
   "source": [
    "#8-) Program which computes The sum of the square of the first n natural number\n",
    "#For Loop\n",
    "n=int(input(\"Enter a number\"))\n",
    "cpt=0\n",
    "for i in range(0,n):\n",
    "    cpt=cpt+(i**2)\n",
    "print(\"The sum of the square of the first\",n,\"natural number is\",cpt)\n",
    "  "
   ]
  },
  {
   "cell_type": "code",
   "execution_count": 24,
   "id": "8a563351",
   "metadata": {},
   "outputs": [
    {
     "name": "stdout",
     "output_type": "stream",
     "text": [
      "Enter a number3\n",
      "The sum of the square of the first 3 natural number is 5\n"
     ]
    }
   ],
   "source": [
    "#While loop\n",
    "n=int(input(\"Enter a number\"))\n",
    "cpt=0\n",
    "i=0\n",
    "while i<n:\n",
    "    cpt=cpt+(i**2)\n",
    "    i=i+1\n",
    "print(\"The sum of the square of the first\",n,\"natural number is\",cpt)\n",
    "  \n"
   ]
  },
  {
   "cell_type": "code",
   "execution_count": null,
   "id": "bfa7f38e",
   "metadata": {},
   "outputs": [],
   "source": []
  },
  {
   "cell_type": "code",
   "execution_count": 26,
   "id": "3f251dc7",
   "metadata": {},
   "outputs": [
    {
     "name": "stdout",
     "output_type": "stream",
     "text": [
      "Enter a number10\n",
      "1\n",
      "2\n",
      "5\n",
      "10\n"
     ]
    }
   ],
   "source": [
    "#9-a) Program which gives all divisors of an natural number\n",
    "n=int(input(\"Enter a number\"))\n",
    "for i in range(1,n+1):\n",
    "    if (n%i)==0:\n",
    "        print(i)\n",
    "        "
   ]
  },
  {
   "cell_type": "code",
   "execution_count": 29,
   "id": "d0a4cc03",
   "metadata": {},
   "outputs": [
    {
     "name": "stdout",
     "output_type": "stream",
     "text": [
      "Enter a number10\n",
      "1\t2\t5\t10\t"
     ]
    }
   ],
   "source": [
    "#9-b) Program which calculates the prime factors\n",
    "n=int(input(\"Enter a number\"))\n",
    "for i in range(1,n+1):\n",
    "    if (n%i)==0:\n",
    "        print(i,end='\\t')"
   ]
  },
  {
   "cell_type": "code",
   "execution_count": 34,
   "id": "23e89df5",
   "metadata": {},
   "outputs": [
    {
     "name": "stdout",
     "output_type": "stream",
     "text": [
      "Entrez un nombre:2\n",
      "Entrez le nombre de multiplication:6\n",
      "2 x 0 = 0 \n",
      "\n",
      "2 x 1 = 2 \n",
      "\n",
      "2 x 2 = 4 \n",
      "\n",
      "2 x 3 = 6 \n",
      "\n",
      "2 x 4 = 8 \n",
      "\n",
      "2 x 5 = 10 \n",
      "\n",
      "2 x 6 = 12 \n",
      "\n"
     ]
    }
   ],
   "source": [
    "#10- Table of multiplication\n",
    "n= int(input(\"Enter the number:\"))\n",
    "m= int(input(\"Enter N:\"))\n",
    "\n",
    "i=0\n",
    "while i<m+1:\n",
    "    print(n,\"x\", i,\"=\",n*i,\"\\n\")\n",
    "    i=i+1"
   ]
  },
  {
   "cell_type": "code",
   "execution_count": 38,
   "id": "20cf0927",
   "metadata": {},
   "outputs": [
    {
     "name": "stdout",
     "output_type": "stream",
     "text": [
      "3\n",
      "6\n",
      "7\n",
      "9\n",
      "11\n",
      "12\n",
      "14\n",
      "15\n",
      "18\n",
      "21\n",
      "22\n",
      "24\n",
      "27\n",
      "28\n",
      "30\n",
      "33\n",
      "35\n",
      "36\n",
      "39\n"
     ]
    }
   ],
   "source": [
    "#11\n",
    "for i in range(1,40):\n",
    "    if(i%3)==0 or (i%7)==0 or (i%11)==0 :\n",
    "         print(i)    \n"
   ]
  },
  {
   "cell_type": "code",
   "execution_count": 44,
   "id": "1e59e7b3",
   "metadata": {},
   "outputs": [
    {
     "name": "stdout",
     "output_type": "stream",
     "text": [
      "Enter a float number:12.6\n"
     ]
    },
    {
     "ename": "AttributeError",
     "evalue": "'float' object has no attribute 'split'",
     "output_type": "error",
     "traceback": [
      "\u001b[0;31m---------------------------------------------------------------------------\u001b[0m",
      "\u001b[0;31mAttributeError\u001b[0m                            Traceback (most recent call last)",
      "Input \u001b[0;32mIn [44]\u001b[0m, in \u001b[0;36m<cell line: 3>\u001b[0;34m()\u001b[0m\n\u001b[1;32m      1\u001b[0m \u001b[38;5;66;03m#12-\u001b[39;00m\n\u001b[1;32m      2\u001b[0m x\u001b[38;5;241m=\u001b[39m\u001b[38;5;28mfloat\u001b[39m(\u001b[38;5;28minput\u001b[39m(\u001b[38;5;124m\"\u001b[39m\u001b[38;5;124mEnter a float number:\u001b[39m\u001b[38;5;124m\"\u001b[39m))\n\u001b[0;32m----> 3\u001b[0m n\u001b[38;5;241m=\u001b[39m\u001b[43mx\u001b[49m\u001b[38;5;241;43m.\u001b[39;49m\u001b[43msplit\u001b[49m(\u001b[38;5;124m\"\u001b[39m\u001b[38;5;124m.\u001b[39m\u001b[38;5;124m\"\u001b[39m)\n\u001b[1;32m      4\u001b[0m \u001b[38;5;28;01mif\u001b[39;00m n[\u001b[38;5;241m1\u001b[39m]\u001b[38;5;241m>\u001b[39m\u001b[38;5;241m5\u001b[39m:\n\u001b[1;32m      5\u001b[0m     \u001b[38;5;28mprint\u001b[39m(x\u001b[38;5;241m+\u001b[39m\u001b[38;5;241m1\u001b[39m)\n",
      "\u001b[0;31mAttributeError\u001b[0m: 'float' object has no attribute 'split'"
     ]
    }
   ],
   "source": [
    "#12-\n",
    "x=float(input(\"Enter a float number:\"))\n",
    "n=x.split(\".\")\n",
    "if n[1]>5:\n",
    "    print(x+1)\n",
    "else: \n",
    "    print(x)\n"
   ]
  },
  {
   "cell_type": "code",
   "execution_count": null,
   "id": "891fe7c3",
   "metadata": {},
   "outputs": [],
   "source": []
  },
  {
   "cell_type": "code",
   "execution_count": null,
   "id": "aa2ca30b",
   "metadata": {},
   "outputs": [],
   "source": [
    "#14\n",
    "x=-1\n",
    "while x not in range(0,10):\n",
    "    x=int(input(\"Enter a natural number between 0 and 9:\"))\n",
    "maxi=-1\n",
    "while maxi not in range(0,256):\n",
    "    maxi=int(input(\"Enter a natural number between 0 and 256:\"))\n",
    "    for i in range(1,maxi+1):\n",
    "        if i%x==0:\n",
    "            print(i)"
   ]
  },
  {
   "cell_type": "code",
   "execution_count": null,
   "id": "e9503797",
   "metadata": {},
   "outputs": [],
   "source": []
  }
 ],
 "metadata": {
  "kernelspec": {
   "display_name": "Python 3 (ipykernel)",
   "language": "python",
   "name": "python3"
  },
  "language_info": {
   "codemirror_mode": {
    "name": "ipython",
    "version": 3
   },
   "file_extension": ".py",
   "mimetype": "text/x-python",
   "name": "python",
   "nbconvert_exporter": "python",
   "pygments_lexer": "ipython3",
   "version": "3.8.10"
  }
 },
 "nbformat": 4,
 "nbformat_minor": 5
}
